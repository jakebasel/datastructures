{
 "cells": [
  {
   "cell_type": "code",
   "execution_count": 14,
   "id": "e223d1b3",
   "metadata": {},
   "outputs": [],
   "source": [
    "class Queue:\n",
    "    def __init__(self):\n",
    "        self.items = []\n",
    "    \n",
    "    def is_empty(self):\n",
    "        return self.items == []\n",
    "    \n",
    "    def enqueue(self, item):\n",
    "        self.items.insert(0, item)\n",
    "        \n",
    "    def dequeue(self):\n",
    "        return self.items.pop()\n",
    "\n",
    "    def size(self):\n",
    "        return len(self.items)"
   ]
  },
  {
   "cell_type": "code",
   "execution_count": 15,
   "id": "948240e9",
   "metadata": {},
   "outputs": [],
   "source": [
    "from string import ascii_lowercase\n",
    "from random import randint, choice\n",
    "from time import sleep\n",
    "\n",
    "def register_visitors(visitor_queue):\n",
    "    for char in ascii_lowercase:\n",
    "        visitor_queue.enqueue(char)\n",
    "\n",
    "def service_customers(visitor_queue):\n",
    "    bank_tellers = [\"A\", \"B\", \"C\", \"D\", \"E\", \"F\", \"G\"]\n",
    "    while not visitor_queue.is_empty():\n",
    "        visitor = visitor_queue.dequeue()\n",
    "        print(\"Thank you for waiting %s, station %s is ready for you.\"\n",
    "         % (visitor, choice(bank_tellers)))\n",
    "        sleep(randint(1,2))\n",
    "    print(\"Empty visitor queue.\")\n",
    "\n",
    "def main():\n",
    "    visitor_queue = Queue()\n",
    "    register_visitors(visitor_queue)\n",
    "    service_customers(visitor_queue)"
   ]
  },
  {
   "cell_type": "code",
   "execution_count": 16,
   "id": "ceb3fb72",
   "metadata": {},
   "outputs": [
    {
     "name": "stdout",
     "output_type": "stream",
     "text": [
      "Thank you for waiting a, station E is ready for you.\n",
      "Thank you for waiting b, station B is ready for you.\n",
      "Thank you for waiting c, station B is ready for you.\n",
      "Thank you for waiting d, station G is ready for you.\n",
      "Thank you for waiting e, station C is ready for you.\n",
      "Thank you for waiting f, station C is ready for you.\n",
      "Thank you for waiting g, station D is ready for you.\n",
      "Thank you for waiting h, station F is ready for you.\n",
      "Thank you for waiting i, station C is ready for you.\n",
      "Thank you for waiting j, station B is ready for you.\n",
      "Thank you for waiting k, station F is ready for you.\n",
      "Thank you for waiting l, station C is ready for you.\n",
      "Thank you for waiting m, station E is ready for you.\n",
      "Thank you for waiting n, station C is ready for you.\n",
      "Thank you for waiting o, station E is ready for you.\n",
      "Thank you for waiting p, station G is ready for you.\n",
      "Thank you for waiting q, station B is ready for you.\n",
      "Thank you for waiting r, station F is ready for you.\n",
      "Thank you for waiting s, station G is ready for you.\n",
      "Thank you for waiting t, station D is ready for you.\n",
      "Thank you for waiting u, station F is ready for you.\n",
      "Thank you for waiting v, station C is ready for you.\n",
      "Thank you for waiting w, station G is ready for you.\n",
      "Thank you for waiting x, station F is ready for you.\n",
      "Thank you for waiting y, station F is ready for you.\n",
      "Thank you for waiting z, station G is ready for you.\n",
      "Empty visitor queue.\n"
     ]
    }
   ],
   "source": [
    "main()"
   ]
  },
  {
   "cell_type": "markdown",
   "id": "e077dbd2",
   "metadata": {},
   "source": [
    "# check to see if there is a bracket\n"
   ]
  },
  {
   "cell_type": "code",
   "execution_count": 17,
   "id": "2199ff78",
   "metadata": {},
   "outputs": [],
   "source": [
    "class Stack:\n",
    "    def __init__(self):\n",
    "        self.items = []\n",
    "        \n",
    "    def is_empty(self):\n",
    "        return self.items == []\n",
    "    \n",
    "    def push(self, item):\n",
    "        self.items.append(item)\n",
    "    \n",
    "    def pop(self):\n",
    "        return self.items.pop()\n",
    "\n",
    "    def peek(self):\n",
    "        return self.items[len(self.items)-1]\n",
    "    \n",
    "    def size(self):\n",
    "        return len(self.items)"
   ]
  },
  {
   "cell_type": "code",
   "execution_count": 104,
   "id": "c60513ac",
   "metadata": {},
   "outputs": [],
   "source": [
    "def balance_check(s):\n",
    "    if len(s) % 2 != 0:\n",
    "        return False\n",
    "    opening = set(\"({[\")\n",
    "    matches = set([(\"(\",\")\"),(\"[\",\"]\"),(\"{\",\"}\")])\n",
    "    stack = Stack()\n",
    "    for paren in s:\n",
    "        if paren in opening:\n",
    "            stack.push(paren)\n",
    "        else:\n",
    "            if stack.is_empty():\n",
    "                return False\n",
    "            last_open = stack.pop()\n",
    "            if (last_open, paren) not in matches:\n",
    "                return False\n",
    "    return stack.is_empty()"
   ]
  },
  {
   "cell_type": "code",
   "execution_count": 108,
   "id": "b73d7888",
   "metadata": {},
   "outputs": [
    {
     "data": {
      "text/plain": [
       "True"
      ]
     },
     "execution_count": 108,
     "metadata": {},
     "output_type": "execute_result"
    }
   ],
   "source": [
    "balance_check(\"([])\")"
   ]
  },
  {
   "cell_type": "markdown",
   "id": "7ef1498a",
   "metadata": {},
   "source": [
    "# implement queue class using two stacks\n",
    "# use python list data strcuture but act like stack at all times\n",
    "# goal create a queue which is FIFO by using two stacks are LIFO"
   ]
  },
  {
   "cell_type": "code",
   "execution_count": 6,
   "id": "8bb7500a",
   "metadata": {},
   "outputs": [],
   "source": [
    "class Queue2Stacks:\n",
    "    \n",
    "    def __init__(self):\n",
    "        # Two stacks\n",
    "        self.stack1 = []\n",
    "        self.stack2 = []\n",
    "    \n",
    "    def enqueue(self, element):\n",
    "        self.stack1.append(element) #push into stack\n",
    "    \n",
    "    def dequeue(self):\n",
    "        if not self.stack2:\n",
    "            self.stack2.append(self.stack1.pop())\n",
    "        return self.stack2.pop()\n",
    "    \n"
   ]
  },
  {
   "cell_type": "code",
   "execution_count": 9,
   "id": "f1f4e133",
   "metadata": {},
   "outputs": [],
   "source": [
    "    def test():\n",
    "        \"\"\"This should print: 0,2,3,4,\n",
    "        Notes: it will print vertically \"\"\"\n",
    "        q = Queue2Stacks()\n",
    "        for i in range(5):\n",
    "            q.enqueue(i)\n",
    "        for i in range(5):\n",
    "            print(q.dequeue())"
   ]
  },
  {
   "cell_type": "code",
   "execution_count": 12,
   "id": "fc59a0a1",
   "metadata": {},
   "outputs": [
    {
     "name": "stdout",
     "output_type": "stream",
     "text": [
      "4\n",
      "3\n",
      "2\n",
      "1\n",
      "0\n"
     ]
    }
   ],
   "source": [
    "test()"
   ]
  },
  {
   "cell_type": "code",
   "execution_count": null,
   "id": "00dd2edc",
   "metadata": {},
   "outputs": [],
   "source": []
  }
 ],
 "metadata": {
  "kernelspec": {
   "display_name": "Python 3 (ipykernel)",
   "language": "python",
   "name": "python3"
  },
  "language_info": {
   "codemirror_mode": {
    "name": "ipython",
    "version": 3
   },
   "file_extension": ".py",
   "mimetype": "text/x-python",
   "name": "python",
   "nbconvert_exporter": "python",
   "pygments_lexer": "ipython3",
   "version": "3.8.2"
  }
 },
 "nbformat": 4,
 "nbformat_minor": 5
}

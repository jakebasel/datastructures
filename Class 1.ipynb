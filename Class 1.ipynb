{
 "cells": [
  {
   "cell_type": "code",
   "execution_count": 1,
   "id": "b2790fd8",
   "metadata": {},
   "outputs": [
    {
     "name": "stdout",
     "output_type": "stream",
     "text": [
      "hellow, world\n"
     ]
    }
   ],
   "source": [
    "print(\"hellow, world\")"
   ]
  },
  {
   "cell_type": "code",
   "execution_count": null,
   "id": "49f45672",
   "metadata": {},
   "outputs": [],
   "source": []
  },
  {
   "cell_type": "code",
   "execution_count": 5,
   "id": "bdd98f40",
   "metadata": {},
   "outputs": [
    {
     "name": "stdout",
     "output_type": "stream",
     "text": [
      "h\n",
      "e\n",
      "l\n",
      "l\n",
      "o\n",
      ",\n",
      " \n",
      "w\n",
      "o\n",
      "r\n",
      "l\n",
      "d\n"
     ]
    }
   ],
   "source": [
    "for letter in \"hello, world\":\n",
    "    print(letter)"
   ]
  },
  {
   "cell_type": "markdown",
   "id": "2dc9a3f9",
   "metadata": {},
   "source": [
    "#  Problem 1\n",
    "### Given two strings (string_a and string_b) check whether they are anagrams of each other given the following criteria:\n",
    "> Two strings only anagrams if each other if all conditions below are met:\n",
    "> * They must be exacctly the same lenght.\n",
    "> * They must use exactly the same characters (no more, no less)\n",
    "Examples: carsand scar, hearth and eart etc."
   ]
  },
  {
   "cell_type": "code",
   "execution_count": 7,
   "id": "4faebac8",
   "metadata": {},
   "outputs": [],
   "source": [
    "string_a = str(\"text\")"
   ]
  },
  {
   "cell_type": "markdown",
   "id": "8ba581e9",
   "metadata": {},
   "source": [
    "# Step 1: Convert strings to character arrays\n",
    "# Step 2: check lenghts / end if not equal\n",
    "# Step 3: sort character arrays\n",
    "# Step 4: check each array position to see if equal"
   ]
  },
  {
   "cell_type": "code",
   "execution_count": 6,
   "id": "619c1748",
   "metadata": {},
   "outputs": [],
   "source": [
    "string_a = str(\"abc\")\n",
    "string_b = str(\"cba\")\n",
    "list_a = list(string_a)\n",
    "list_b = list(string_b)"
   ]
  },
  {
   "cell_type": "code",
   "execution_count": 7,
   "id": "7c2744bf",
   "metadata": {},
   "outputs": [],
   "source": [
    "def is_anagram(string_a, string_b):\n",
    "    if len(string_a) != len(string_b):\n",
    "        return False\n",
    "    char_times_a = dict()\n",
    "    char_times_b = dict()\n",
    "    for i in range(len(string_a)):\n",
    "        if string_a[i] not in char_times_a.keys():\n",
    "            char_times_a[string_a[i]] = 0\n",
    "        else:\n",
    "            char_times_a[string_a[i]] += 1\n",
    "        if string_b[i] not in char_times_b.keys():\n",
    "            char_times_b[string_b[i]] = 0\n",
    "        else:\n",
    "            char_times_b[string_b[i]] += 1\n",
    "    return char_times_a == char_times_b"
   ]
  },
  {
   "cell_type": "code",
   "execution_count": 8,
   "id": "3cd545be",
   "metadata": {},
   "outputs": [
    {
     "data": {
      "text/plain": [
       "True"
      ]
     },
     "execution_count": 8,
     "metadata": {},
     "output_type": "execute_result"
    }
   ],
   "source": [
    "is_anagram(\"cars\",\"scar\")"
   ]
  },
  {
   "cell_type": "code",
   "execution_count": 9,
   "id": "19b6470a",
   "metadata": {},
   "outputs": [
    {
     "data": {
      "text/plain": [
       "False"
      ]
     },
     "execution_count": 9,
     "metadata": {},
     "output_type": "execute_result"
    }
   ],
   "source": [
    "is_anagram(\"sccr\",\"scar\")"
   ]
  },
  {
   "cell_type": "code",
   "execution_count": 10,
   "id": "a5958bb0",
   "metadata": {},
   "outputs": [],
   "source": [
    "def is_anagram_robust(string_a, string_b):\n",
    "    string_a = string_a.lower()\n",
    "    string_b = string_b.lower()\n",
    "    string_a = string_a.replace(\" \",\"\")\n",
    "    string_b = string_b.replace(\" \",\"\")\n",
    "    if len(string_a) != len(string_b):\n",
    "        return False\n",
    "    char_times_a = dict()\n",
    "    char_times_b = dict()\n",
    "    for i in range(len(string_a)):\n",
    "        if string_a[i] not in char_times_a.keys():\n",
    "            char_times_a[string_a[i]] = 0\n",
    "        else:\n",
    "            char_times_a[string_a[i]] += 1\n",
    "        if string_b[i] not in char_times_b.keys():\n",
    "            char_times_b[string_b[i]] = 0\n",
    "        else:\n",
    "            char_times_b[string_b[i]] += 1\n",
    "    return char_times_a == char_times_b"
   ]
  },
  {
   "cell_type": "code",
   "execution_count": 11,
   "id": "a739e2ac",
   "metadata": {},
   "outputs": [
    {
     "data": {
      "text/plain": [
       "True"
      ]
     },
     "execution_count": 11,
     "metadata": {},
     "output_type": "execute_result"
    }
   ],
   "source": [
    "is_anagram_robust(\"Abc \",\"ab    c\")"
   ]
  },
  {
   "cell_type": "code",
   "execution_count": 21,
   "id": "28127b2f",
   "metadata": {},
   "outputs": [],
   "source": [
    "class Stack:\n",
    "    def __init__(self):\n",
    "        self.items = []\n",
    "        \n",
    "    def is_empty(self):\n",
    "        return self.items == []\n",
    "    \n",
    "    def push(self, item):\n",
    "        self.items.append(item)\n",
    "    \n",
    "    def pop(self):\n",
    "        return self.items.pop()\n",
    "\n",
    "    def peek(self):\n",
    "        return self.items[len(self.items)-1]\n",
    "    \n",
    "    def size(self):\n",
    "        return len(self.items)"
   ]
  },
  {
   "cell_type": "code",
   "execution_count": 22,
   "id": "fcf36cbe",
   "metadata": {},
   "outputs": [],
   "source": [
    "def reverse_str(s):\n",
    "    # populate this function so that it reverses a string\n",
    "    # it should return the string in reverse order\n",
    "    # example: rafael -> leafar\n",
    "    out = \"\"\n",
    "    stack = Stack()\n",
    "    for letter in s:\n",
    "        stack.push(letter)\n",
    "    while not stack.is_empty():\n",
    "        out += stack.pop()\n",
    "    return out"
   ]
  },
  {
   "cell_type": "code",
   "execution_count": 23,
   "id": "d5370111",
   "metadata": {},
   "outputs": [
    {
     "data": {
      "text/plain": [
       "'dcba'"
      ]
     },
     "execution_count": 23,
     "metadata": {},
     "output_type": "execute_result"
    }
   ],
   "source": [
    "reverse_str(\"abcd\")"
   ]
  },
  {
   "cell_type": "markdown",
   "id": "17e8d1ad",
   "metadata": {},
   "source": [
    "# problem 2, using stack / determine wehter incoming string palindrome"
   ]
  },
  {
   "cell_type": "code",
   "execution_count": 38,
   "id": "201c5916",
   "metadata": {},
   "outputs": [],
   "source": [
    "def pallindrome(string):\n",
    "    string = string.lower()\n",
    "    return string == reverse_str(string)"
   ]
  },
  {
   "cell_type": "code",
   "execution_count": 39,
   "id": "bf9d8cc5",
   "metadata": {},
   "outputs": [
    {
     "data": {
      "text/plain": [
       "True"
      ]
     },
     "execution_count": 39,
     "metadata": {},
     "output_type": "execute_result"
    }
   ],
   "source": [
    "pallindrome(\"Abba\")"
   ]
  },
  {
   "cell_type": "markdown",
   "id": "23887afe",
   "metadata": {},
   "source": [
    "   # problem 3 / impelemnt back buttom for last URL / load 10 urls then ask if want to go to last one"
   ]
  },
  {
   "cell_type": "code",
   "execution_count": 104,
   "id": "b796160c",
   "metadata": {},
   "outputs": [],
   "source": [
    "urls = [\n",
    "    \"www.google.com\",\n",
    "    \"twitter.com\",\n",
    "    \"facebook.com\",\n",
    "    \"duckduckgo.com\",\n",
    "    \"sdgku.edu\",\n",
    "    \"something.com\",\n",
    "    \"example.com\",\n",
    "    \"mywebpage.com\",\n",
    "    \"gmail.com\",\n",
    "    \"hotmail.com\"\n",
    "]"
   ]
  },
  {
   "cell_type": "code",
   "execution_count": 105,
   "id": "76e86d4e",
   "metadata": {},
   "outputs": [],
   "source": [
    "def goback(urls):\n",
    "    stack = Stack()\n",
    "    user_input = \"yes\"\n",
    "    for url in urls:\n",
    "        stack.push(url)\n",
    "    while user_input != \"no\":\n",
    "        user_input = input(\"do you want last url\")\n",
    "        if user_input == \"yes\" and not stack.is_empty():\n",
    "            print(\"Last url: %s\" % stack.pop())\n",
    "        if stack.is_empty():\n",
    "            print(\"no more urls\")"
   ]
  },
  {
   "cell_type": "code",
   "execution_count": 106,
   "id": "28f2b70b",
   "metadata": {},
   "outputs": [
    {
     "name": "stdout",
     "output_type": "stream",
     "text": [
      "do you want last urlyes\n",
      "Last url: hotmail.com\n",
      "do you want last urlno\n"
     ]
    }
   ],
   "source": [
    "goback(urls)"
   ]
  },
  {
   "cell_type": "code",
   "execution_count": null,
   "id": "28f88586",
   "metadata": {},
   "outputs": [],
   "source": []
  }
 ],
 "metadata": {
  "kernelspec": {
   "display_name": "Python 3 (ipykernel)",
   "language": "python",
   "name": "python3"
  },
  "language_info": {
   "codemirror_mode": {
    "name": "ipython",
    "version": 3
   },
   "file_extension": ".py",
   "mimetype": "text/x-python",
   "name": "python",
   "nbconvert_exporter": "python",
   "pygments_lexer": "ipython3",
   "version": "3.8.2"
  }
 },
 "nbformat": 4,
 "nbformat_minor": 5
}

{
 "cells": [
  {
   "cell_type": "code",
   "execution_count": 1,
   "id": "b2790fd8",
   "metadata": {},
   "outputs": [
    {
     "name": "stdout",
     "output_type": "stream",
     "text": [
      "hellow, world\n"
     ]
    }
   ],
   "source": [
    "print(\"hellow, world\")"
   ]
  },
  {
   "cell_type": "code",
   "execution_count": null,
   "id": "49f45672",
   "metadata": {},
   "outputs": [],
   "source": []
  },
  {
   "cell_type": "code",
   "execution_count": 5,
   "id": "bdd98f40",
   "metadata": {},
   "outputs": [
    {
     "name": "stdout",
     "output_type": "stream",
     "text": [
      "h\n",
      "e\n",
      "l\n",
      "l\n",
      "o\n",
      ",\n",
      " \n",
      "w\n",
      "o\n",
      "r\n",
      "l\n",
      "d\n"
     ]
    }
   ],
   "source": [
    "for letter in \"hello, world\":\n",
    "    print(letter)"
   ]
  },
  {
   "cell_type": "markdown",
   "id": "2dc9a3f9",
   "metadata": {},
   "source": [
    "#  Problem 1\n",
    "### Given two strings (string_a and string_b) check whether they are anagrams of each other given the following criteria:\n",
    "> Two strings only anagrams if each other if all conditions below are met:\n",
    "> * They must be exacctly the same lenght.\n",
    "> * They must use exactly the same characters (no more, no less)\n",
    "Examples: carsand scar, hearth and eart etc."
   ]
  },
  {
   "cell_type": "code",
   "execution_count": 7,
   "id": "4faebac8",
   "metadata": {},
   "outputs": [],
   "source": [
    "string_a = str(\"text\")"
   ]
  },
  {
   "cell_type": "markdown",
   "id": "8ba581e9",
   "metadata": {},
   "source": [
    "# Step 1: Convert strings to character arrays\n",
    "# Step 2: check lenghts / end if not equal\n",
    "# Step 3: sort character arrays\n",
    "# Step 4: check each array position to see if equal"
   ]
  },
  {
   "cell_type": "code",
   "execution_count": 6,
   "id": "619c1748",
   "metadata": {},
   "outputs": [],
   "source": [
    "string_a = str(\"abc\")\n",
    "string_b = str(\"cba\")\n",
    "list_a = list(string_a)\n",
    "list_b = list(string_b)"
   ]
  },
  {
   "cell_type": "code",
   "execution_count": 7,
   "id": "7c2744bf",
   "metadata": {},
   "outputs": [],
   "source": [
    "def is_anagram(string_a, string_b):\n",
    "    if len(string_a) != len(string_b):\n",
    "        return False\n",
    "    char_times_a = dict()\n",
    "    char_times_b = dict()\n",
    "    for i in range(len(string_a)):\n",
    "        if string_a[i] not in char_times_a.keys():\n",
    "            char_times_a[string_a[i]] = 0\n",
    "        else:\n",
    "            char_times_a[string_a[i]] += 1\n",
    "        if string_b[i] not in char_times_b.keys():\n",
    "            char_times_b[string_b[i]] = 0\n",
    "        else:\n",
    "            char_times_b[string_b[i]] += 1\n",
    "    return char_times_a == char_times_b"
   ]
  },
  {
   "cell_type": "code",
   "execution_count": 8,
   "id": "3cd545be",
   "metadata": {},
   "outputs": [
    {
     "data": {
      "text/plain": [
       "True"
      ]
     },
     "execution_count": 8,
     "metadata": {},
     "output_type": "execute_result"
    }
   ],
   "source": [
    "is_anagram(\"cars\",\"scar\")"
   ]
  },
  {
   "cell_type": "code",
   "execution_count": 9,
   "id": "19b6470a",
   "metadata": {},
   "outputs": [
    {
     "data": {
      "text/plain": [
       "False"
      ]
     },
     "execution_count": 9,
     "metadata": {},
     "output_type": "execute_result"
    }
   ],
   "source": [
    "is_anagram(\"sccr\",\"scar\")"
   ]
  },
  {
   "cell_type": "code",
   "execution_count": 10,
   "id": "a5958bb0",
   "metadata": {},
   "outputs": [],
   "source": [
    "def is_anagram_robust(string_a, string_b):\n",
    "    string_a = string_a.lower()\n",
    "    string_b = string_b.lower()\n",
    "    string_a = string_a.replace(\" \",\"\")\n",
    "    string_b = string_b.replace(\" \",\"\")\n",
    "    if len(string_a) != len(string_b):\n",
    "        return False\n",
    "    char_times_a = dict()\n",
    "    char_times_b = dict()\n",
    "    for i in range(len(string_a)):\n",
    "        if string_a[i] not in char_times_a.keys():\n",
    "            char_times_a[string_a[i]] = 0\n",
    "        else:\n",
    "            char_times_a[string_a[i]] += 1\n",
    "        if string_b[i] not in char_times_b.keys():\n",
    "            char_times_b[string_b[i]] = 0\n",
    "        else:\n",
    "            char_times_b[string_b[i]] += 1\n",
    "    return char_times_a == char_times_b"
   ]
  },
  {
   "cell_type": "code",
   "execution_count": 11,
   "id": "a739e2ac",
   "metadata": {},
   "outputs": [
    {
     "data": {
      "text/plain": [
       "True"
      ]
     },
     "execution_count": 11,
     "metadata": {},
     "output_type": "execute_result"
    }
   ],
   "source": [
    "is_anagram_robust(\"Abc \",\"ab    c\")"
   ]
  },
  {
   "cell_type": "code",
   "execution_count": 21,
   "id": "28127b2f",
   "metadata": {},
   "outputs": [],
   "source": [
    "class Stack:\n",
    "    def __init__(self):\n",
    "        self.items = []\n",
    "        \n",
    "    def is_empty(self):\n",
    "        return self.items == []\n",
    "    \n",
    "    def push(self, item):\n",
    "        self.items.append(item)\n",
    "    \n",
    "    def pop(self):\n",
    "        return self.items.pop()\n",
    "\n",
    "    def peek(self):\n",
    "        return self.items[len(self.items)-1]\n",
    "    \n",
    "    def size(self):\n",
    "        return len(self.items)"
   ]
  },
  {
   "cell_type": "code",
   "execution_count": 22,
   "id": "fcf36cbe",
   "metadata": {},
   "outputs": [],
   "source": [
    "def reverse_str(s):\n",
    "    # populate this function so that it reverses a string\n",
    "    # it should return the string in reverse order\n",
    "    # example: rafael -> leafar\n",
    "    out = \"\"\n",
    "    stack = Stack()\n",
    "    for letter in s:\n",
    "        stack.push(letter)\n",
    "    while not stack.is_empty():\n",
    "        out += stack.pop()\n",
    "    return out"
   ]
  },
  {
   "cell_type": "code",
   "execution_count": 23,
   "id": "d5370111",
   "metadata": {},
   "outputs": [
    {
     "data": {
      "text/plain": [
       "'dcba'"
      ]
     },
     "execution_count": 23,
     "metadata": {},
     "output_type": "execute_result"
    }
   ],
   "source": [
    "reverse_str(\"abcd\")"
   ]
  },
  {
   "cell_type": "markdown",
   "id": "17e8d1ad",
   "metadata": {},
   "source": [
    "# problem 2, using stack / determine wehter incoming string palindrome"
   ]
  },
  {
   "cell_type": "code",
   "execution_count": 38,
   "id": "201c5916",
   "metadata": {},
   "outputs": [],
   "source": [
    "def pallindrome(string):\n",
    "    string = string.lower()\n",
    "    return string == reverse_str(string)"
   ]
  },
  {
   "cell_type": "code",
   "execution_count": 39,
   "id": "bf9d8cc5",
   "metadata": {},
   "outputs": [
    {
     "data": {
      "text/plain": [
       "True"
      ]
     },
     "execution_count": 39,
     "metadata": {},
     "output_type": "execute_result"
    }
   ],
   "source": [
    "pallindrome(\"Abba\")"
   ]
  },
  {
   "cell_type": "markdown",
   "id": "23887afe",
   "metadata": {},
   "source": [
    "   # problem 3 / impelemnt back buttom for last URL / load 10 urls then ask if want to go to last one"
   ]
  },
  {
   "cell_type": "code",
   "execution_count": 41,
   "id": "b796160c",
   "metadata": {},
   "outputs": [],
   "source": [
    "urls = [\n",
    "    \"www.google.com\",\n",
    "    \"twitter.com\",\n",
    "    \"facebook.com\",\n",
    "    \"duckduckgo.com\",\n",
    "    \"sdgku.edu\",\n",
    "    \"something.com\",\n",
    "    \"example.com\",\n",
    "    \"mywebpage.com\",\n",
    "    \"gmail.com\",\n",
    "    \"hotmail.com\"\n",
    "]"
   ]
  },
  {
   "cell_type": "code",
   "execution_count": 48,
   "id": "c3e1c1c5",
   "metadata": {},
   "outputs": [
    {
     "ename": "KeyboardInterrupt",
     "evalue": "Interrupted by user",
     "output_type": "error",
     "traceback": [
      "\u001b[0;31m---------------------------------------------------------------------------\u001b[0m",
      "\u001b[0;31mKeyboardInterrupt\u001b[0m                         Traceback (most recent call last)",
      "\u001b[0;32m/var/folders/f3/2gw4f4sx2fxcc4l5x7ypbnhr0000gn/T/ipykernel_58491/679873942.py\u001b[0m in \u001b[0;36m<module>\u001b[0;34m\u001b[0m\n\u001b[0;32m----> 1\u001b[0;31m \u001b[0mx\u001b[0m \u001b[0;34m=\u001b[0m \u001b[0minput\u001b[0m\u001b[0;34m(\u001b[0m\u001b[0;34m\"Do you want to go back?, yes or no \"\u001b[0m\u001b[0;34m)\u001b[0m\u001b[0;34m\u001b[0m\u001b[0;34m\u001b[0m\u001b[0m\n\u001b[0m\u001b[1;32m      2\u001b[0m \u001b[0mprint\u001b[0m\u001b[0;34m(\u001b[0m\u001b[0;34m\"You chose %s!\"\u001b[0m \u001b[0;34m%\u001b[0m \u001b[0mx\u001b[0m\u001b[0;34m)\u001b[0m\u001b[0;34m\u001b[0m\u001b[0;34m\u001b[0m\u001b[0m\n",
      "\u001b[0;32m~/Code/SDGKU/FSDI_114/venv/lib/python3.8/site-packages/ipykernel/kernelbase.py\u001b[0m in \u001b[0;36mraw_input\u001b[0;34m(self, prompt)\u001b[0m\n\u001b[1;32m   1004\u001b[0m                 \u001b[0;34m\"raw_input was called, but this frontend does not support input requests.\"\u001b[0m\u001b[0;34m\u001b[0m\u001b[0;34m\u001b[0m\u001b[0m\n\u001b[1;32m   1005\u001b[0m             )\n\u001b[0;32m-> 1006\u001b[0;31m         return self._input_request(\n\u001b[0m\u001b[1;32m   1007\u001b[0m             \u001b[0mstr\u001b[0m\u001b[0;34m(\u001b[0m\u001b[0mprompt\u001b[0m\u001b[0;34m)\u001b[0m\u001b[0;34m,\u001b[0m\u001b[0;34m\u001b[0m\u001b[0;34m\u001b[0m\u001b[0m\n\u001b[1;32m   1008\u001b[0m             \u001b[0mself\u001b[0m\u001b[0;34m.\u001b[0m\u001b[0m_parent_ident\u001b[0m\u001b[0;34m[\u001b[0m\u001b[0;34m\"shell\"\u001b[0m\u001b[0;34m]\u001b[0m\u001b[0;34m,\u001b[0m\u001b[0;34m\u001b[0m\u001b[0;34m\u001b[0m\u001b[0m\n",
      "\u001b[0;32m~/Code/SDGKU/FSDI_114/venv/lib/python3.8/site-packages/ipykernel/kernelbase.py\u001b[0m in \u001b[0;36m_input_request\u001b[0;34m(self, prompt, ident, parent, password)\u001b[0m\n\u001b[1;32m   1049\u001b[0m             \u001b[0;32mexcept\u001b[0m \u001b[0mKeyboardInterrupt\u001b[0m\u001b[0;34m:\u001b[0m\u001b[0;34m\u001b[0m\u001b[0;34m\u001b[0m\u001b[0m\n\u001b[1;32m   1050\u001b[0m                 \u001b[0;31m# re-raise KeyboardInterrupt, to truncate traceback\u001b[0m\u001b[0;34m\u001b[0m\u001b[0;34m\u001b[0m\u001b[0;34m\u001b[0m\u001b[0m\n\u001b[0;32m-> 1051\u001b[0;31m                 \u001b[0;32mraise\u001b[0m \u001b[0mKeyboardInterrupt\u001b[0m\u001b[0;34m(\u001b[0m\u001b[0;34m\"Interrupted by user\"\u001b[0m\u001b[0;34m)\u001b[0m \u001b[0;32mfrom\u001b[0m \u001b[0;32mNone\u001b[0m\u001b[0;34m\u001b[0m\u001b[0;34m\u001b[0m\u001b[0m\n\u001b[0m\u001b[1;32m   1052\u001b[0m             \u001b[0;32mexcept\u001b[0m \u001b[0mException\u001b[0m\u001b[0;34m:\u001b[0m\u001b[0;34m\u001b[0m\u001b[0;34m\u001b[0m\u001b[0m\n\u001b[1;32m   1053\u001b[0m                 \u001b[0mself\u001b[0m\u001b[0;34m.\u001b[0m\u001b[0mlog\u001b[0m\u001b[0;34m.\u001b[0m\u001b[0mwarning\u001b[0m\u001b[0;34m(\u001b[0m\u001b[0;34m\"Invalid Message:\"\u001b[0m\u001b[0;34m,\u001b[0m \u001b[0mexc_info\u001b[0m\u001b[0;34m=\u001b[0m\u001b[0;32mTrue\u001b[0m\u001b[0;34m)\u001b[0m\u001b[0;34m\u001b[0m\u001b[0;34m\u001b[0m\u001b[0m\n",
      "\u001b[0;31mKeyboardInterrupt\u001b[0m: Interrupted by user"
     ]
    }
   ],
   "source": [
    "x = input(\"Do you want to go back?, yes or no \")\n",
    "print(\"You chose %s!\" % x)"
   ]
  },
  {
   "cell_type": "code",
   "execution_count": null,
   "id": "76e86d4e",
   "metadata": {},
   "outputs": [],
   "source": [
    "def goback(url):\n",
    "    stack = Stack()\n",
    "    for url in url:\n",
    "        stack.push(url)"
   ]
  },
  {
   "cell_type": "code",
   "execution_count": null,
   "id": "bf76753f",
   "metadata": {},
   "outputs": [],
   "source": [
    "goback(url[])"
   ]
  }
 ],
 "metadata": {
  "kernelspec": {
   "display_name": "Python 3 (ipykernel)",
   "language": "python",
   "name": "python3"
  },
  "language_info": {
   "codemirror_mode": {
    "name": "ipython",
    "version": 3
   },
   "file_extension": ".py",
   "mimetype": "text/x-python",
   "name": "python",
   "nbconvert_exporter": "python",
   "pygments_lexer": "ipython3",
   "version": "3.8.2"
  }
 },
 "nbformat": 4,
 "nbformat_minor": 5
}
